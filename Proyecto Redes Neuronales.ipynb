{
 "cells": [
  {
   "cell_type": "markdown",
   "id": "4cc9f724-0d57-4555-b434-4c0201cca623",
   "metadata": {},
   "source": [
    "# proyecto Final Redes neuronales"
   ]
  },
  {
   "cell_type": "markdown",
   "id": "f8fa78b5-5ca6-4e66-86dc-99100baf8038",
   "metadata": {},
   "source": [
    "En este proyecto vamos a ser un par de redes convolucionales que reciba imagenes de Pokemon.\n",
    "La primera red va a ser una red de catalogacion de imagen, dada una imagen va a predecir que pokemon es, la segunda igual va a ser de catalogacion pero dada una imagen va a predecir que tipo o tipos tiene el pokemon\n"
   ]
  },
  {
   "cell_type": "code",
   "execution_count": 1,
   "id": "3a783597-7b97-42e4-97aa-5f51151f23ee",
   "metadata": {
    "tags": []
   },
   "outputs": [],
   "source": [
    "#importamos las bibliotecas que vamos a ocupar en el proyecto\n",
    "import pandas as pd\n",
    "import torch\n",
    "import torchvision\n",
    "import torch.nn as nn\n",
    "import torch.optim as optim\n",
    "from torch.autograd import Variable\n",
    "import torchvision.transforms as transforms\n",
    "import matplotlib.pyplot as plt\n",
    "import numpy as np\n",
    "from ipywidgets import interact, interact_manual, interactive, fixed\n",
    "from PIL import Image\n",
    "from tqdm.auto import tqdm\n",
    "import time"
   ]
  },
  {
   "cell_type": "code",
   "execution_count": 2,
   "id": "03971a10-ab01-419b-996e-cc092b5e70ca",
   "metadata": {
    "tags": []
   },
   "outputs": [],
   "source": [
    "#Cargamos las imagenes y etiquetas\n",
    "dataset = pd.read_csv(\"./dataset.csv\")"
   ]
  },
  {
   "cell_type": "code",
   "execution_count": 3,
   "id": "2e3b1171-9227-4053-8ccb-927d0767a072",
   "metadata": {
    "tags": []
   },
   "outputs": [
    {
     "data": {
      "text/html": [
       "<div>\n",
       "<style scoped>\n",
       "    .dataframe tbody tr th:only-of-type {\n",
       "        vertical-align: middle;\n",
       "    }\n",
       "\n",
       "    .dataframe tbody tr th {\n",
       "        vertical-align: top;\n",
       "    }\n",
       "\n",
       "    .dataframe thead th {\n",
       "        text-align: right;\n",
       "    }\n",
       "</style>\n",
       "<table border=\"1\" class=\"dataframe\">\n",
       "  <thead>\n",
       "    <tr style=\"text-align: right;\">\n",
       "      <th></th>\n",
       "      <th>file</th>\n",
       "      <th>name</th>\n",
       "      <th>type1</th>\n",
       "      <th>type2</th>\n",
       "    </tr>\n",
       "  </thead>\n",
       "  <tbody>\n",
       "    <tr>\n",
       "      <th>0</th>\n",
       "      <td>./sprites/0.png</td>\n",
       "      <td>None</td>\n",
       "      <td>NaN</td>\n",
       "      <td>NaN</td>\n",
       "    </tr>\n",
       "    <tr>\n",
       "      <th>1</th>\n",
       "      <td>./sprites/1.png</td>\n",
       "      <td>Bulbasaur</td>\n",
       "      <td>Grass</td>\n",
       "      <td>Poison</td>\n",
       "    </tr>\n",
       "    <tr>\n",
       "      <th>2</th>\n",
       "      <td>./sprites/2.png</td>\n",
       "      <td>Ivysaur</td>\n",
       "      <td>Grass</td>\n",
       "      <td>Poison</td>\n",
       "    </tr>\n",
       "    <tr>\n",
       "      <th>3</th>\n",
       "      <td>./sprites/3.png</td>\n",
       "      <td>Venusaur</td>\n",
       "      <td>Grass</td>\n",
       "      <td>Poison</td>\n",
       "    </tr>\n",
       "    <tr>\n",
       "      <th>4</th>\n",
       "      <td>./sprites/4.png</td>\n",
       "      <td>Charmander</td>\n",
       "      <td>Fire</td>\n",
       "      <td>NaN</td>\n",
       "    </tr>\n",
       "    <tr>\n",
       "      <th>...</th>\n",
       "      <td>...</td>\n",
       "      <td>...</td>\n",
       "      <td>...</td>\n",
       "      <td>...</td>\n",
       "    </tr>\n",
       "    <tr>\n",
       "      <th>1006</th>\n",
       "      <td>./sprites/1006.png</td>\n",
       "      <td>Iron Valiant</td>\n",
       "      <td>Fairy</td>\n",
       "      <td>Fighting</td>\n",
       "    </tr>\n",
       "    <tr>\n",
       "      <th>1007</th>\n",
       "      <td>./sprites/1007.png</td>\n",
       "      <td>Koraidon</td>\n",
       "      <td>Fighting</td>\n",
       "      <td>Dragon</td>\n",
       "    </tr>\n",
       "    <tr>\n",
       "      <th>1008</th>\n",
       "      <td>./sprites/1008.png</td>\n",
       "      <td>Miraidon</td>\n",
       "      <td>Electric</td>\n",
       "      <td>Dragon</td>\n",
       "    </tr>\n",
       "    <tr>\n",
       "      <th>1009</th>\n",
       "      <td>./sprites/1009.png</td>\n",
       "      <td>Walking Wake</td>\n",
       "      <td>Water</td>\n",
       "      <td>Dragon</td>\n",
       "    </tr>\n",
       "    <tr>\n",
       "      <th>1010</th>\n",
       "      <td>./sprites/1010.png</td>\n",
       "      <td>Iron Leaves</td>\n",
       "      <td>Grass</td>\n",
       "      <td>Psychic</td>\n",
       "    </tr>\n",
       "  </tbody>\n",
       "</table>\n",
       "<p>1011 rows × 4 columns</p>\n",
       "</div>"
      ],
      "text/plain": [
       "                    file          name     type1     type2\n",
       "0        ./sprites/0.png          None       NaN       NaN\n",
       "1        ./sprites/1.png     Bulbasaur     Grass    Poison\n",
       "2        ./sprites/2.png       Ivysaur     Grass    Poison\n",
       "3        ./sprites/3.png      Venusaur     Grass    Poison\n",
       "4        ./sprites/4.png    Charmander      Fire       NaN\n",
       "...                  ...           ...       ...       ...\n",
       "1006  ./sprites/1006.png  Iron Valiant     Fairy  Fighting\n",
       "1007  ./sprites/1007.png      Koraidon  Fighting    Dragon\n",
       "1008  ./sprites/1008.png      Miraidon  Electric    Dragon\n",
       "1009  ./sprites/1009.png  Walking Wake     Water    Dragon\n",
       "1010  ./sprites/1010.png   Iron Leaves     Grass   Psychic\n",
       "\n",
       "[1011 rows x 4 columns]"
      ]
     },
     "execution_count": 3,
     "metadata": {},
     "output_type": "execute_result"
    }
   ],
   "source": [
    "dataset"
   ]
  },
  {
   "cell_type": "code",
   "execution_count": 4,
   "id": "8608fbb5-5828-4e0c-92e2-5f7588ee1bb6",
   "metadata": {
    "tags": []
   },
   "outputs": [
    {
     "data": {
      "text/html": [
       "<div>\n",
       "<style scoped>\n",
       "    .dataframe tbody tr th:only-of-type {\n",
       "        vertical-align: middle;\n",
       "    }\n",
       "\n",
       "    .dataframe tbody tr th {\n",
       "        vertical-align: top;\n",
       "    }\n",
       "\n",
       "    .dataframe thead th {\n",
       "        text-align: right;\n",
       "    }\n",
       "</style>\n",
       "<table border=\"1\" class=\"dataframe\">\n",
       "  <thead>\n",
       "    <tr style=\"text-align: right;\">\n",
       "      <th></th>\n",
       "      <th>file</th>\n",
       "      <th>name</th>\n",
       "      <th>type1</th>\n",
       "      <th>type2</th>\n",
       "    </tr>\n",
       "  </thead>\n",
       "  <tbody>\n",
       "    <tr>\n",
       "      <th>0</th>\n",
       "      <td>./sprites/0.png</td>\n",
       "      <td>0</td>\n",
       "      <td>0</td>\n",
       "      <td>0</td>\n",
       "    </tr>\n",
       "    <tr>\n",
       "      <th>1</th>\n",
       "      <td>./sprites/1.png</td>\n",
       "      <td>1</td>\n",
       "      <td>10</td>\n",
       "      <td>14</td>\n",
       "    </tr>\n",
       "    <tr>\n",
       "      <th>2</th>\n",
       "      <td>./sprites/2.png</td>\n",
       "      <td>2</td>\n",
       "      <td>10</td>\n",
       "      <td>14</td>\n",
       "    </tr>\n",
       "    <tr>\n",
       "      <th>3</th>\n",
       "      <td>./sprites/3.png</td>\n",
       "      <td>3</td>\n",
       "      <td>10</td>\n",
       "      <td>14</td>\n",
       "    </tr>\n",
       "    <tr>\n",
       "      <th>4</th>\n",
       "      <td>./sprites/4.png</td>\n",
       "      <td>4</td>\n",
       "      <td>7</td>\n",
       "      <td>0</td>\n",
       "    </tr>\n",
       "    <tr>\n",
       "      <th>...</th>\n",
       "      <td>...</td>\n",
       "      <td>...</td>\n",
       "      <td>...</td>\n",
       "      <td>...</td>\n",
       "    </tr>\n",
       "    <tr>\n",
       "      <th>1006</th>\n",
       "      <td>./sprites/1006.png</td>\n",
       "      <td>1006</td>\n",
       "      <td>5</td>\n",
       "      <td>6</td>\n",
       "    </tr>\n",
       "    <tr>\n",
       "      <th>1007</th>\n",
       "      <td>./sprites/1007.png</td>\n",
       "      <td>1007</td>\n",
       "      <td>6</td>\n",
       "      <td>3</td>\n",
       "    </tr>\n",
       "    <tr>\n",
       "      <th>1008</th>\n",
       "      <td>./sprites/1008.png</td>\n",
       "      <td>1008</td>\n",
       "      <td>4</td>\n",
       "      <td>3</td>\n",
       "    </tr>\n",
       "    <tr>\n",
       "      <th>1009</th>\n",
       "      <td>./sprites/1009.png</td>\n",
       "      <td>1009</td>\n",
       "      <td>18</td>\n",
       "      <td>3</td>\n",
       "    </tr>\n",
       "    <tr>\n",
       "      <th>1010</th>\n",
       "      <td>./sprites/1010.png</td>\n",
       "      <td>1010</td>\n",
       "      <td>10</td>\n",
       "      <td>15</td>\n",
       "    </tr>\n",
       "  </tbody>\n",
       "</table>\n",
       "<p>1011 rows × 4 columns</p>\n",
       "</div>"
      ],
      "text/plain": [
       "                    file  name  type1  type2\n",
       "0        ./sprites/0.png     0      0      0\n",
       "1        ./sprites/1.png     1     10     14\n",
       "2        ./sprites/2.png     2     10     14\n",
       "3        ./sprites/3.png     3     10     14\n",
       "4        ./sprites/4.png     4      7      0\n",
       "...                  ...   ...    ...    ...\n",
       "1006  ./sprites/1006.png  1006      5      6\n",
       "1007  ./sprites/1007.png  1007      6      3\n",
       "1008  ./sprites/1008.png  1008      4      3\n",
       "1009  ./sprites/1009.png  1009     18      3\n",
       "1010  ./sprites/1010.png  1010     10     15\n",
       "\n",
       "[1011 rows x 4 columns]"
      ]
     },
     "execution_count": 4,
     "metadata": {},
     "output_type": "execute_result"
    }
   ],
   "source": [
    "# vamos a codificar los tipos y los nombres de los pokemon cambiando los strings por numeros\n",
    "tipos={np.nan:0,\n",
    "\"Bug\":1,\n",
    "\"Dark\":2,\n",
    "\"Dragon\":3,\n",
    "\"Electric\":4,\n",
    "\"Fairy\":5,\n",
    "\"Fighting\":6,\n",
    "\"Fire\":7,\n",
    "\"Flying\":8,\n",
    "\"Ghost\":9,\n",
    "\"Grass\":10,\n",
    "\"Ground\":11,\n",
    "\"Ice\":12,\n",
    "\"Normal\":13,\n",
    "\"Poison\":14,\n",
    "\"Psychic\":15,\n",
    "\"Rock\":16,\n",
    "\"Steel\":17,\n",
    "\"Water\":18}\n",
    "name =  {k: v for v, k in enumerate(dataset.name.unique())}\n",
    "dataset = dataset.replace({'type1':tipos})\n",
    "dataset = dataset.replace({'type2':tipos})\n",
    "dataset = dataset.replace({'name':name})\n",
    "dataset"
   ]
  },
  {
   "cell_type": "code",
   "execution_count": 5,
   "id": "5096ca52-491b-47fe-b136-156b240803d1",
   "metadata": {},
   "outputs": [
    {
     "data": {
      "text/html": [
       "<div>\n",
       "<style scoped>\n",
       "    .dataframe tbody tr th:only-of-type {\n",
       "        vertical-align: middle;\n",
       "    }\n",
       "\n",
       "    .dataframe tbody tr th {\n",
       "        vertical-align: top;\n",
       "    }\n",
       "\n",
       "    .dataframe thead th {\n",
       "        text-align: right;\n",
       "    }\n",
       "</style>\n",
       "<table border=\"1\" class=\"dataframe\">\n",
       "  <thead>\n",
       "    <tr style=\"text-align: right;\">\n",
       "      <th></th>\n",
       "      <th>file</th>\n",
       "      <th>name</th>\n",
       "      <th>type1</th>\n",
       "      <th>type2</th>\n",
       "    </tr>\n",
       "  </thead>\n",
       "  <tbody>\n",
       "    <tr>\n",
       "      <th>615</th>\n",
       "      <td>./sprites/615.png</td>\n",
       "      <td>615</td>\n",
       "      <td>12</td>\n",
       "      <td>0</td>\n",
       "    </tr>\n",
       "    <tr>\n",
       "      <th>207</th>\n",
       "      <td>./sprites/207.png</td>\n",
       "      <td>207</td>\n",
       "      <td>11</td>\n",
       "      <td>8</td>\n",
       "    </tr>\n",
       "    <tr>\n",
       "      <th>867</th>\n",
       "      <td>./sprites/867.png</td>\n",
       "      <td>867</td>\n",
       "      <td>11</td>\n",
       "      <td>9</td>\n",
       "    </tr>\n",
       "    <tr>\n",
       "      <th>677</th>\n",
       "      <td>./sprites/677.png</td>\n",
       "      <td>677</td>\n",
       "      <td>15</td>\n",
       "      <td>0</td>\n",
       "    </tr>\n",
       "    <tr>\n",
       "      <th>579</th>\n",
       "      <td>./sprites/579.png</td>\n",
       "      <td>579</td>\n",
       "      <td>15</td>\n",
       "      <td>0</td>\n",
       "    </tr>\n",
       "    <tr>\n",
       "      <th>...</th>\n",
       "      <td>...</td>\n",
       "      <td>...</td>\n",
       "      <td>...</td>\n",
       "      <td>...</td>\n",
       "    </tr>\n",
       "    <tr>\n",
       "      <th>879</th>\n",
       "      <td>./sprites/879.png</td>\n",
       "      <td>879</td>\n",
       "      <td>17</td>\n",
       "      <td>0</td>\n",
       "    </tr>\n",
       "    <tr>\n",
       "      <th>710</th>\n",
       "      <td>./sprites/710.png</td>\n",
       "      <td>710</td>\n",
       "      <td>9</td>\n",
       "      <td>10</td>\n",
       "    </tr>\n",
       "    <tr>\n",
       "      <th>524</th>\n",
       "      <td>./sprites/524.png</td>\n",
       "      <td>524</td>\n",
       "      <td>16</td>\n",
       "      <td>0</td>\n",
       "    </tr>\n",
       "    <tr>\n",
       "      <th>396</th>\n",
       "      <td>./sprites/396.png</td>\n",
       "      <td>396</td>\n",
       "      <td>13</td>\n",
       "      <td>8</td>\n",
       "    </tr>\n",
       "    <tr>\n",
       "      <th>780</th>\n",
       "      <td>./sprites/780.png</td>\n",
       "      <td>780</td>\n",
       "      <td>13</td>\n",
       "      <td>3</td>\n",
       "    </tr>\n",
       "  </tbody>\n",
       "</table>\n",
       "<p>1011 rows × 4 columns</p>\n",
       "</div>"
      ],
      "text/plain": [
       "                  file  name  type1  type2\n",
       "615  ./sprites/615.png   615     12      0\n",
       "207  ./sprites/207.png   207     11      8\n",
       "867  ./sprites/867.png   867     11      9\n",
       "677  ./sprites/677.png   677     15      0\n",
       "579  ./sprites/579.png   579     15      0\n",
       "..                 ...   ...    ...    ...\n",
       "879  ./sprites/879.png   879     17      0\n",
       "710  ./sprites/710.png   710      9     10\n",
       "524  ./sprites/524.png   524     16      0\n",
       "396  ./sprites/396.png   396     13      8\n",
       "780  ./sprites/780.png   780     13      3\n",
       "\n",
       "[1011 rows x 4 columns]"
      ]
     },
     "execution_count": 5,
     "metadata": {},
     "output_type": "execute_result"
    }
   ],
   "source": [
    "# randomizamos las entradas\n",
    "dataset = dataset.sample(frac = 1)\n",
    "dataset"
   ]
  },
  {
   "cell_type": "code",
   "execution_count": 6,
   "id": "15d063c6-6adc-48ea-8e98-e66816abdd9e",
   "metadata": {
    "tags": []
   },
   "outputs": [],
   "source": [
    "#creamos los conjuntos para entrenar las redes\n",
    "# Y va a contener los nombres codificados y se utiliza como las etiquetas correctas\n",
    "# para la primera red.\n",
    "Y = dataset['name']\n",
    "\n",
    "# Y2 va a contener los tipos codificados y se utiliza como las etiquetas correctas\n",
    "# para la segunda red.\n",
    "Y2 = dataset.drop(['name','file'],axis=1)\n",
    "\n",
    "# X va a contener las imagenes que se van a usar como entrada para ambas redes.\n",
    "X = dataset.drop(['name','type1','type2'],axis=1)"
   ]
  },
  {
   "cell_type": "code",
   "execution_count": 7,
   "id": "e6f90260-716a-4230-a790-b6deb06b6dad",
   "metadata": {
    "tags": []
   },
   "outputs": [],
   "source": [
    "def etiquetaNombres(etiquetas):\n",
    "    # Esta funcion tomara el dataset de los nombres de los pokemon (codificados en numeros)\n",
    "    # y regresara un tensor con la representacion de one hot encoding de cada uno\n",
    "    \n",
    "    # Tenemos 1011 posibles salidas y segun la codificacion del nombre solo la entrada\n",
    "    # que sea igual que la codificacion va a ser 1 y las demas 0.\n",
    "    y = torch.zeros(len(etiquetas),1011)\n",
    "    for i in range(len(etiquetas)):\n",
    "        y[i][etiquetas[i]] = 1\n",
    "    return y\n",
    "\n",
    "def fotosAtensor(fotos):\n",
    "    # Esta funcion tomara el dataset de las rutas de los archivos que contienen las fotos\n",
    "    # que se usaran como entradas y regresara un tensor con los tensores que representan\n",
    "    # la imagen dividida por canales de color\n",
    "    \n",
    "    tensors = torch.zeros(len(fotos),3,30,40)\n",
    "    transform = transforms.ToTensor()\n",
    "    for i in range(len(fotos)):\n",
    "        tensors[i] = transform(Image.open(fotos[i][0]))\n",
    "    return tensors"
   ]
  },
  {
   "cell_type": "code",
   "execution_count": 8,
   "id": "43dfac92-11b0-47d8-bf9c-3455263d8097",
   "metadata": {
    "tags": []
   },
   "outputs": [],
   "source": [
    "# converitmos el dataset de nombres a tensor de etiquetas\n",
    "Ynombres=etiquetaNombres(Y)\n",
    "# convertimos el dataset de las rutas de imagenes a el tensor con su representacion\n",
    "Xtensor = fotosAtensor(X.to_numpy())"
   ]
  },
  {
   "cell_type": "code",
   "execution_count": 9,
   "id": "1ba39e12-f09c-44d7-b75a-f56a336f2de8",
   "metadata": {
    "tags": []
   },
   "outputs": [
    {
     "data": {
      "application/vnd.jupyter.widget-view+json": {
       "model_id": "6ebfce393497417fb2dd51d09ef5107c",
       "version_major": 2,
       "version_minor": 0
      },
      "text/plain": [
       "interactive(children=(IntSlider(value=505, description='img', max=1010), Output()), _dom_classes=('widget-inte…"
      ]
     },
     "metadata": {},
     "output_type": "display_data"
    }
   ],
   "source": [
    "# mostramos como se ven las imagenes sin filtros\n",
    "@interact(img = (0, 1010))\n",
    "def muestraImagen(img):\n",
    "    plt.imshow(Image.open('./sprites/'+str(img)+'.png'))"
   ]
  },
  {
   "cell_type": "code",
   "execution_count": 10,
   "id": "44a1819d-d8e7-4dee-9435-e43229e097d5",
   "metadata": {
    "tags": []
   },
   "outputs": [
    {
     "data": {
      "application/vnd.jupyter.widget-view+json": {
       "model_id": "032b826713d4490c8424cb9e23a92f5b",
       "version_major": 2,
       "version_minor": 0
      },
      "text/plain": [
       "interactive(children=(IntSlider(value=505, description='img', max=1010), Output()), _dom_classes=('widget-inte…"
      ]
     },
     "metadata": {},
     "output_type": "display_data"
    }
   ],
   "source": [
    "# mostramos como se ve la imagen con el pooling que realizara la red neuronal\n",
    "@interact(img = (0, 1010))\n",
    "def muestraImagen2(img):\n",
    "    transform = transforms.ToTensor()\n",
    "    tensor = transform(Image.open('./sprites/'+str(img)+'.png'))\n",
    "    m = nn.AvgPool2d(5)\n",
    "    r = m(tensor)\n",
    "    img = r.squeeze(0)\n",
    "    img = transforms.ToPILImage()(img)\n",
    "    plt.imshow(img)\n"
   ]
  },
  {
   "cell_type": "markdown",
   "id": "84620c3a-bd4c-4560-a3f1-be650f259302",
   "metadata": {
    "tags": []
   },
   "source": [
    "## Red para nombre del pokemon"
   ]
  },
  {
   "cell_type": "code",
   "execution_count": 11,
   "id": "9672f701-47fc-4692-a296-27e8def1eeac",
   "metadata": {},
   "outputs": [],
   "source": [
    "class redNombre(nn.Module):\n",
    "    def __init__(self):\n",
    "        \n",
    "        super(redNombre, self).__init__()\n",
    "        # capas que va a tener nuestra red\n",
    "        \n",
    "        # una capa de pooling que tomara el promedio de los pixeles de la matris\n",
    "        # utiliza una matriz de 5x5 con stride de 5 y sin padding\n",
    "        # convierte nuestra imagen de 3x30x40 en una de 3x6x8\n",
    "        self.pool = nn.AvgPool2d(5)\n",
    "        \n",
    "        # Una capa convolucional que transforma nuesta imagen de 3x6x8 a una de 5x5x7\n",
    "        self.conv = nn.Conv2d(3,5,kernel_size=2,stride=1,padding=0)\n",
    "        \n",
    "        # Una capa convolucional que transforma nuesta imagen de 5x5x7 a una de 3x4x6\n",
    "        self.conv2 = nn.Conv2d(5,3,kernel_size=2,stride=1,padding=0)\n",
    "        \n",
    "        # Una capa completamente conectada con 150 neuronas,cuya activacion es ReLu\n",
    "        self.fc0 = nn.Linear(72,150)\n",
    "        # Una capa completamente conectada con 200 neuronas,cuya activacion es ReLu\n",
    "        self.fc1 = nn.Linear(150,200)\n",
    "        # Una capa completamente conectada con 1011 neuronas,cuya activacion es ReLu\n",
    "        self.fc2 = nn.Linear(200,1011)\n",
    "        \n",
    "    def forward(self, x):\n",
    "        # Orden que van a tener las capas\n",
    "        \n",
    "        # primero realizamos el avgpool\n",
    "        x = self.pool(x)\n",
    "        \n",
    "        # despues hacemos las dos covoluciones\n",
    "        x = nn.functional.relu(self.conv(x))\n",
    "        x = nn.functional.relu(self.conv2(x))\n",
    "        \n",
    "        # reorganizamos la forma del tensor\n",
    "        x = x.view(-1,72)\n",
    "        \n",
    "        # realizamos las tres capas completamente conectadas\n",
    "        x = nn.functional.relu(self.fc0(x))\n",
    "        x = nn.functional.relu(self.fc1(x))\n",
    "        x = self.fc2(x)\n",
    "        \n",
    "        # devolvemos el tensor resultante, la entrada de mayor valor sera la que consideremos como la elegida\n",
    "        return x\n",
    "    \n",
    "    def train(self,epochs,X,Y,criterion,optimizer,cuda=False):\n",
    "        \n",
    "        # Metodo que reliza el entrenamiento de los pesos de la red\n",
    "        \n",
    "        # Estas dos variables son para graficar el error de la red\n",
    "        ejeX = []\n",
    "        ejeY = []\n",
    "        \n",
    "        # Por cada epoca:\n",
    "        for i in tqdm(range(epochs)):\n",
    "            loss=0.0\n",
    "            # Por cada entrada \"x\" y su etiqueta correcta \"y\"\n",
    "            for x,y in zip(X,Y):\n",
    "                optimizer.zero_grad()\n",
    "                \n",
    "                # calculamos la prediccion de la red\n",
    "                output = self.forward(x)\n",
    "                # calculamos que tanto se equivoco contra la etiqueta correcta\n",
    "                loss = criterion(output.flatten(),y)\n",
    "                # actualizamos los pesos\n",
    "                loss.backward()\n",
    "                optimizer.step()\n",
    "            # agregamos el error de la epoca para la grafica\n",
    "            ejeX += [i]\n",
    "            ejeY += [loss.item()]\n",
    "        # graficamos el error de la red a lo largo de las epocas\n",
    "        plt.plot(ejeX,ejeY)\n",
    "        \n",
    "    def _mayores(self,predicciones):\n",
    "        # Funcion auxiliar para convertir los tensores de prediccion de la red a un one hot encoding\n",
    "        # por cada tensor la entrada mas grande se convierte en 1 y las demas en 0\n",
    "        # por ejemplo si un tensor es [0.7,0.8,0.2,0.9,0.1,-0.5] se convierte en [0, 0, 0, 1, 0, 0]\n",
    "        \n",
    "        mejores = []\n",
    "        for pred in predicciones:\n",
    "            valor = -1\n",
    "            mejor = -1\n",
    "            for i in range(len(pred)):\n",
    "                if pred[i] > valor:\n",
    "                    valor = pred[i]\n",
    "                    mejor = i\n",
    "            mejores += [mejor]\n",
    "        return mejores\n",
    "    \n",
    "    def predicciones(self,entrada):\n",
    "        # metodo que dado un tensor con entradas para la red regresa el one hot encoding de las predicciones de la red\n",
    "        return self._mayores(self.forward(entrada)) "
   ]
  },
  {
   "cell_type": "code",
   "execution_count": 12,
   "id": "da708899-4031-473b-8700-470194c2a1ca",
   "metadata": {
    "tags": []
   },
   "outputs": [],
   "source": [
    "# creamos la red que aprendera los a distinguir los pokemon y predecira su nombre (codificado por el one hot)\n",
    "rn = redNombre()\n",
    "criterio = nn.CrossEntropyLoss()\n",
    "optimizer = optim.SGD(rn.parameters(), lr=0.0015) "
   ]
  },
  {
   "cell_type": "code",
   "execution_count": 13,
   "id": "cbbe859c-6938-4cef-9b63-8df9cca33e64",
   "metadata": {
    "tags": []
   },
   "outputs": [
    {
     "data": {
      "application/vnd.jupyter.widget-view+json": {
       "model_id": "795c1b81995548749104707738af5101",
       "version_major": 2,
       "version_minor": 0
      },
      "text/plain": [
       "HBox(children=(IntProgress(value=0, max=500), HTML(value='')))"
      ]
     },
     "metadata": {},
     "output_type": "display_data"
    },
    {
     "name": "stdout",
     "output_type": "stream",
     "text": [
      "\n"
     ]
    },
    {
     "data": {
      "image/png": "[encoded data removed]",
      "text/plain": [
       "<Figure size 432x288 with 1 Axes>"
      ]
     },
     "metadata": {
      "needs_background": "light"
     },
     "output_type": "display_data"
    }
   ],
   "source": [
    "# Entrenamos la red por 500 epocas\n",
    "rn.train(500,Xtensor,Ynombres,criterio,optimizer,cuda=True)"
   ]
  },
  {
   "cell_type": "code",
   "execution_count": 14,
   "id": "c6e6847d-95c3-4f33-a16e-4775f0a68cbd",
   "metadata": {},
   "outputs": [],
   "source": [
    "def salvarRed(red,ruta='./pesos.pth'):\n",
    "    # Este metodo creara un archivo con los pesos de la red para\n",
    "    # poder recuperarlos luego y no tener que volver a entrenar la red\n",
    "    torch.save(red.state_dict(),ruta)\n",
    "    \n",
    "def cargarRed(red,ruta='./pesos.pth'):\n",
    "    # Este metodo cargara los pesos de la red con los que se encuentran \n",
    "    # en un archivo para no tener que volver a entrenar la red\n",
    "    red.load_state_dict(torch.load(ruta))"
   ]
  },
  {
   "cell_type": "code",
   "execution_count": 15,
   "id": "61070804-819b-446e-ba8d-9086cb5575a8",
   "metadata": {},
   "outputs": [],
   "source": [
    "#salvarRed(rc,ruta='./pesosNombre.pth')\n",
    "\n",
    "#cargamos la red que correctamente clasifica todos los pokemon\n",
    "cargarRed(rn,ruta='./pesosNombre.pth')"
   ]
  },
  {
   "cell_type": "code",
   "execution_count": 16,
   "id": "f8eb0f66-4690-47b7-b2ab-1ba7e44d0152",
   "metadata": {
    "tags": []
   },
   "outputs": [],
   "source": [
    "def contarCorrectas(predictor,X,Y):\n",
    "    # metodo que dado un metodo para predecir las salidas dadas las entras \"X\" \n",
    "    #  contara cuantas fueron correctas dadas las etiquetas correctas \"Y\" \n",
    "    predicciones = predictor.predicciones(X)\n",
    "    correctas = 0\n",
    "    for yPred,yVerd in zip(predicciones,Y):\n",
    "        if yPred == yVerd:\n",
    "            correctas += 1\n",
    "    return correctas"
   ]
  },
  {
   "cell_type": "code",
   "execution_count": 17,
   "id": "1fc056e1-c1a4-454c-a9e3-c6c871a7a2a1",
   "metadata": {},
   "outputs": [],
   "source": [
    "class busquedaTemplate():\n",
    "    # Clase para busqueda por template, vamos a ocupar las imagenes que ya tenemos en xTensor para solo\n",
    "    # comparar los tensores hasta tener un match y devolver nuestra prediccion\n",
    "    def __init__(self, tensores,y):\n",
    "        # contructor de la clase\n",
    "        # utilizaremos los tensores que ya tenemos como nuestros templates y\n",
    "        # utilizaremos los valores de y para saber la etiqueta real de la imagen\n",
    "        self.imagenes = tensores.clone().detach()\n",
    "        self.ind = y\n",
    "    \n",
    "    def preddicciones(self,entrada):\n",
    "        resultados = []\n",
    "        # por cada entrada\n",
    "        for ent in entrada:\n",
    "            encontrado = False\n",
    "            # vamos a comparar uno a uno con nuestros templates para decidir que etiqueta ponerle a la entrada\n",
    "            for imagen,ind in zip(self.imagenes,self.ind):\n",
    "                if torch.equal(ent,imagen):\n",
    "                    encontrado = True\n",
    "                    resultados += [ind]\n",
    "                    break\n",
    "            # si no encontramos la entrada en nuestros templates usamos esta etiqueta\n",
    "            if not encontrado:\n",
    "                resultados = [-1]\n",
    "        return resultados"
   ]
  },
  {
   "cell_type": "code",
   "execution_count": 18,
   "id": "1fbf722c-98ea-4ffe-a6bd-bc357a84cd88",
   "metadata": {},
   "outputs": [
    {
     "name": "stdout",
     "output_type": "stream",
     "text": [
      "tiempo: 7.582169532775879 correctas 1011\n"
     ]
    }
   ],
   "source": [
    "# para poder comparar el comportamiento entre usar la red convolucional y usar los templates\n",
    "# vamos a medir cuanto tiempo se tardan cada una.\n",
    "# aqui calculamos el tiempo que tarda la red convolucional en identificar todos los pokemon\n",
    "start = time.time()\n",
    "correctas=contarCorrectas(rn,Xtensor,Y.to_numpy())\n",
    "end = time.time()\n",
    "print(\"tiempo:\",end - start,\"correctas\",correctas)"
   ]
  },
  {
   "cell_type": "code",
   "execution_count": 19,
   "id": "447a009b-85e8-426e-b823-3083640c571a",
   "metadata": {
    "tags": []
   },
   "outputs": [],
   "source": [
    "# creamos el buscador por template\n",
    "bt = busquedaTemplate(Xtensor,Y.to_numpy())"
   ]
  },
  {
   "cell_type": "code",
   "execution_count": 20,
   "id": "66985d14-8054-43ae-8b8c-ab39504d875c",
   "metadata": {
    "tags": []
   },
   "outputs": [
    {
     "name": "stdout",
     "output_type": "stream",
     "text": [
      "tiempo: 7.765726566314697 correctas 1011\n"
     ]
    }
   ],
   "source": [
    "# aqui calculamos el tiempo que tarda el buscador por template en identificar todos los pokemon\n",
    "start = time.time()\n",
    "correctas=contarCorrectas(rn,Xtensor,Y.to_numpy())\n",
    "end = time.time()\n",
    "print(\"tiempo:\",end - start,\"correctas\",correctas)"
   ]
  },
  {
   "cell_type": "markdown",
   "id": "812b00ef-579f-44e6-b024-7dd14654f073",
   "metadata": {},
   "source": [
    "## red para identificacion de tipos"
   ]
  },
  {
   "cell_type": "code",
   "execution_count": 21,
   "id": "e97693b5-f049-49b2-9070-88d3db2fe9e9",
   "metadata": {
    "tags": []
   },
   "outputs": [
    {
     "data": {
      "text/html": [
       "<div>\n",
       "<style scoped>\n",
       "    .dataframe tbody tr th:only-of-type {\n",
       "        vertical-align: middle;\n",
       "    }\n",
       "\n",
       "    .dataframe tbody tr th {\n",
       "        vertical-align: top;\n",
       "    }\n",
       "\n",
       "    .dataframe thead th {\n",
       "        text-align: right;\n",
       "    }\n",
       "</style>\n",
       "<table border=\"1\" class=\"dataframe\">\n",
       "  <thead>\n",
       "    <tr style=\"text-align: right;\">\n",
       "      <th></th>\n",
       "      <th>type1</th>\n",
       "      <th>type2</th>\n",
       "    </tr>\n",
       "  </thead>\n",
       "  <tbody>\n",
       "    <tr>\n",
       "      <th>615</th>\n",
       "      <td>12</td>\n",
       "      <td>0</td>\n",
       "    </tr>\n",
       "    <tr>\n",
       "      <th>207</th>\n",
       "      <td>11</td>\n",
       "      <td>8</td>\n",
       "    </tr>\n",
       "    <tr>\n",
       "      <th>867</th>\n",
       "      <td>11</td>\n",
       "      <td>9</td>\n",
       "    </tr>\n",
       "    <tr>\n",
       "      <th>677</th>\n",
       "      <td>15</td>\n",
       "      <td>0</td>\n",
       "    </tr>\n",
       "    <tr>\n",
       "      <th>579</th>\n",
       "      <td>15</td>\n",
       "      <td>0</td>\n",
       "    </tr>\n",
       "    <tr>\n",
       "      <th>...</th>\n",
       "      <td>...</td>\n",
       "      <td>...</td>\n",
       "    </tr>\n",
       "    <tr>\n",
       "      <th>879</th>\n",
       "      <td>17</td>\n",
       "      <td>0</td>\n",
       "    </tr>\n",
       "    <tr>\n",
       "      <th>710</th>\n",
       "      <td>9</td>\n",
       "      <td>10</td>\n",
       "    </tr>\n",
       "    <tr>\n",
       "      <th>524</th>\n",
       "      <td>16</td>\n",
       "      <td>0</td>\n",
       "    </tr>\n",
       "    <tr>\n",
       "      <th>396</th>\n",
       "      <td>13</td>\n",
       "      <td>8</td>\n",
       "    </tr>\n",
       "    <tr>\n",
       "      <th>780</th>\n",
       "      <td>13</td>\n",
       "      <td>3</td>\n",
       "    </tr>\n",
       "  </tbody>\n",
       "</table>\n",
       "<p>1011 rows × 2 columns</p>\n",
       "</div>"
      ],
      "text/plain": [
       "     type1  type2\n",
       "615     12      0\n",
       "207     11      8\n",
       "867     11      9\n",
       "677     15      0\n",
       "579     15      0\n",
       "..     ...    ...\n",
       "879     17      0\n",
       "710      9     10\n",
       "524     16      0\n",
       "396     13      8\n",
       "780     13      3\n",
       "\n",
       "[1011 rows x 2 columns]"
      ]
     },
     "execution_count": 21,
     "metadata": {},
     "output_type": "execute_result"
    }
   ],
   "source": [
    "# estos son los datos de los tipos\n",
    "Y2"
   ]
  },
  {
   "cell_type": "code",
   "execution_count": 22,
   "id": "645a23af-6f42-4707-9164-87f11aaf265e",
   "metadata": {
    "tags": []
   },
   "outputs": [],
   "source": [
    "def combinacionTipos(etiquetas):\n",
    "    # metodo para convertir las etiquetas de los tipos a un solo valor\n",
    "    aux = []\n",
    "    for i in range(len(etiquetas)):\n",
    "        aux+=[19*etiquetas[i][0]+etiquetas[i][1]]\n",
    "    return aux"
   ]
  },
  {
   "cell_type": "code",
   "execution_count": 23,
   "id": "0fc1c4b2-f3d6-4d35-9010-cd9247684234",
   "metadata": {
    "tags": []
   },
   "outputs": [],
   "source": [
    "def etiquetaTipos(etiquetas):\n",
    "    # metodo para hacer el one hot encoding de las etiquetas de los tipos\n",
    "    y = torch.zeros(len(etiquetas),361)\n",
    "    for i in range(len(etiquetas)):\n",
    "        y[i][19*etiquetas[i][0]+etiquetas[i][1]] += 1 \n",
    "    return y"
   ]
  },
  {
   "cell_type": "code",
   "execution_count": 24,
   "id": "87e4b9bd-a67b-4178-b7ff-67252a61612a",
   "metadata": {
    "tags": []
   },
   "outputs": [],
   "source": [
    "# creamos las etiquetas de los tipos para el entrenamiento\n",
    "Ytipos=etiquetaTipos(Y2.to_numpy())"
   ]
  },
  {
   "cell_type": "code",
   "execution_count": 25,
   "id": "11ca23b4-3564-4abc-86a5-30df86309355",
   "metadata": {
    "tags": []
   },
   "outputs": [],
   "source": [
    "#red que adivina tipos\n",
    "class redTipos(nn.Module):\n",
    "    def __init__(self):\n",
    "        '''\n",
    "        Construcción de la Red, define las capas que se utiizaran.\n",
    "        '''\n",
    "        super(redTipos, self).__init__()\n",
    "        # capas que va a tener nuestra red\n",
    "        \n",
    "        # una capa de pooling que tomara el promedio de los pixeles de la matris\n",
    "        # utiliza una matriz de 5x5 con stride de 5 y sin padding\n",
    "        # convierte nuestra imagen de 3x30x40 en una de 3x6x8\n",
    "        self.pool = nn.AvgPool2d(5)\n",
    "        \n",
    "        # Una capa convolucional que transforma nuesta imagen de 3x6x8 a una de 5x5x7\n",
    "        self.conv = nn.Conv2d(3,5,kernel_size=2,stride=1,padding=0)\n",
    "        \n",
    "        # Una capa convolucional que transforma nuesta imagen de 5x5x7 a una de 3x4x6\n",
    "        self.conv2 = nn.Conv2d(5,3,kernel_size=2,stride=1,padding=0)\n",
    "        # Una capa completamente conectada con 80 neuronas,cuya activacion es ReLu\n",
    "        self.fc0 = nn.Linear(72,80)\n",
    "        # Una capa completamente conectada con 100 neuronas,cuya activacion es ReLu\n",
    "        self.fc1 = nn.Linear(80,100)\n",
    "        # Una capa completamente conectada con 361 neuronas,cuya activacion es ReLu\n",
    "        self.fc2 = nn.Linear(100,361)\n",
    "        \n",
    "    def forward(self, x):\n",
    "        # Orden que van a tener las capas\n",
    "        \n",
    "        # primero realizamos el avgpool\n",
    "        x = self.pool(x)\n",
    "        \n",
    "        # despues hacemos las dos covoluciones\n",
    "        x = nn.functional.relu(self.conv(x))\n",
    "        x = nn.functional.relu(self.conv2(x))\n",
    "        \n",
    "        # reorganizamos la forma del tensor\n",
    "        x = x.view(-1,72)\n",
    "        \n",
    "        # realizamos las tres capas completamente conectadas\n",
    "        x = nn.functional.relu(self.fc0(x))\n",
    "        x = nn.functional.relu(self.fc1(x))\n",
    "        x = self.fc2(x)\n",
    "        \n",
    "        # devolvemos el tensor resultante, la entrada de mayor valor sera la que consideremos como la elegida\n",
    "        return x\n",
    "    \n",
    "    def train(self,epochs,X,Y,criterion,optimizer,cuda=False):\n",
    "        \n",
    "        # Metodo que reliza el entrenamiento de los pesos de la red\n",
    "        \n",
    "        # Estas dos variables son para graficar el error de la red\n",
    "        ejeX = []\n",
    "        ejeY = []\n",
    "        \n",
    "        # Por cada epoca:\n",
    "        for i in tqdm(range(epochs)):\n",
    "            loss=0.0\n",
    "            # Por cada entrada \"x\" y su etiqueta correcta \"y\"\n",
    "            for x,y in zip(X,Y):\n",
    "                optimizer.zero_grad()\n",
    "                \n",
    "                # calculamos la prediccion de la red\n",
    "                output = self.forward(x)\n",
    "                # calculamos que tanto se equivoco contra la etiqueta correcta\n",
    "                loss = criterion(output.flatten(),y)\n",
    "                # actualizamos los pesos\n",
    "                loss.backward()\n",
    "                optimizer.step()\n",
    "            # agregamos el error de la epoca para la grafica\n",
    "            ejeX += [i]\n",
    "            ejeY += [loss.item()]\n",
    "        # graficamos el error de la red a lo largo de las epocas\n",
    "        plt.plot(ejeX,ejeY)\n",
    "        \n",
    "    def _mayores(self,predicciones):\n",
    "        # Funcion auxiliar para convertir los tensores de prediccion de la red a un one hot encoding\n",
    "        # por cada tensor la entrada mas grande se convierte en 1 y las demas en 0\n",
    "        # por ejemplo si un tensor es [0.7,0.8,0.2,0.9,0.1,-0.5] se convierte en [0, 0, 0, 1, 0, 0]\n",
    "        \n",
    "        mejores = []\n",
    "        for pred in predicciones:\n",
    "            valor = -1\n",
    "            mejor = -1\n",
    "            for i in range(len(pred)):\n",
    "                if pred[i] > valor:\n",
    "                    valor = pred[i]\n",
    "                    mejor = i\n",
    "            mejores += [mejor]\n",
    "        return mejores\n",
    "    \n",
    "    def predicciones(self,entrada):\n",
    "        # metodo que dado un tensor con entradas para la red regresa el one hot encoding de las predicciones de la red\n",
    "        return self._mayores(self.forward(entrada)) "
   ]
  },
  {
   "cell_type": "code",
   "execution_count": 26,
   "id": "9791bb1c-fbba-42b2-ac2d-e957865b2901",
   "metadata": {
    "tags": []
   },
   "outputs": [],
   "source": [
    "# creamos la red que aprendera a predecir los tipos segun la imagen\n",
    "rt = redTipos()\n",
    "criterio = nn.CrossEntropyLoss()\n",
    "optimizer = optim.SGD(rt.parameters(), lr=0.0015) "
   ]
  },
  {
   "cell_type": "code",
   "execution_count": 27,
   "id": "f866b40d-80e3-4a89-8e7d-5d14b73e9765",
   "metadata": {
    "tags": []
   },
   "outputs": [
    {
     "data": {
      "application/vnd.jupyter.widget-view+json": {
       "model_id": "561eb1381288464a978a32cde3de3db0",
       "version_major": 2,
       "version_minor": 0
      },
      "text/plain": [
       "HBox(children=(IntProgress(value=0, max=500), HTML(value='')))"
      ]
     },
     "metadata": {},
     "output_type": "display_data"
    },
    {
     "name": "stdout",
     "output_type": "stream",
     "text": [
      "\n"
     ]
    },
    {
     "data": {
      "image/png": "[encoded data removed]",
      "text/plain": [
       "<Figure size 432x288 with 1 Axes>"
      ]
     },
     "metadata": {
      "needs_background": "light"
     },
     "output_type": "display_data"
    }
   ],
   "source": [
    "# entrenamos la red por 500 epocas\n",
    "rt.train(500,Xtensor,Ytipos,criterio,optimizer,cuda=True)"
   ]
  },
  {
   "cell_type": "code",
   "execution_count": 28,
   "id": "b06f173c-4125-403c-9386-d97632a341ac",
   "metadata": {
    "tags": []
   },
   "outputs": [],
   "source": [
    "#creamos las etiquetas para ver que tan bien aprendio la clasificacion\n",
    "YtiposV = combinacionTipos(Y2.to_numpy())"
   ]
  },
  {
   "cell_type": "code",
   "execution_count": 29,
   "id": "47ae07bd-021c-408b-8ffc-dd2ac86a6a41",
   "metadata": {
    "tags": []
   },
   "outputs": [],
   "source": [
    "#salvarRed(rt,ruta='./pesosTipos.pth')\n",
    "#cargamos la red que correctamente clasifica todas las imagenes segun tipo\n",
    "cargarRed(rt,ruta='./pesosTipos.pth')"
   ]
  },
  {
   "cell_type": "code",
   "execution_count": 30,
   "id": "e4274f88-2c82-4943-96c7-d27e3991c5c4",
   "metadata": {
    "tags": []
   },
   "outputs": [
    {
     "name": "stdout",
     "output_type": "stream",
     "text": [
      "tiempo: 2.6834347248077393 correctas 1011\n"
     ]
    }
   ],
   "source": [
    "start = time.time()\n",
    "correctas=contarCorrectas(rt,Xtensor,YtiposV)\n",
    "end = time.time()\n",
    "print(\"tiempo:\",end - start,\"correctas\",correctas)"
   ]
  }
 ],
 "metadata": {
  "kernelspec": {
   "display_name": "Python 3",
   "language": "python",
   "name": "python3"
  },
  "language_info": {
   "codemirror_mode": {
    "name": "ipython",
    "version": 3
   },
   "file_extension": ".py",
   "mimetype": "text/x-python",
   "name": "python",
   "nbconvert_exporter": "python",
   "pygments_lexer": "ipython3",
   "version": "3.8.10"
  }
 },
 "nbformat": 4,
 "nbformat_minor": 5
}
